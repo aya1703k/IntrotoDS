{
 "cells": [
  {
   "cell_type": "markdown",
   "metadata": {},
   "source": [
    "## Problem Statement"
   ]
  },
  {
   "cell_type": "markdown",
   "metadata": {},
   "source": [
    "Dengue fever is a mosquito-borne disease. Symptoms are similar to the flu but sometimes it causes a death. In recent years dengue fever has been spreading. Our goal is to predict the total_cases label for each (city, year, weekofyear) in the test set. We will consider two cities - San Juan & Equitos, with test data for each city spanning 5 and 3 years respectively. We will make predictions for both cities. \n",
    "\n",
    "Accurate dengue predictions would help public health workers ... and people around the world take steps to reduce the impact of these epidemics. But predicting dengue is a hefty task that calls for the consolidation of different data sets on disease incidence, weather, and the environment."
   ]
  },
  {
   "cell_type": "markdown",
   "metadata": {},
   "source": [
    "## Loading and Cleaning Data"
   ]
  },
  {
   "cell_type": "markdown",
   "metadata": {},
   "source": [
    "First, let us load in our data and do some simple cleaning and prepping =)"
   ]
  },
  {
   "cell_type": "code",
   "execution_count": 1,
   "metadata": {},
   "outputs": [],
   "source": [
    "import pandas as pd"
   ]
  },
  {
   "cell_type": "code",
   "execution_count": 2,
   "metadata": {},
   "outputs": [],
   "source": [
    "train_features = pd.read_csv(\"./dengue_features_train.csv\")\n",
    "test_features = pd.read_csv(\"./dengue_features_test.csv\")\n",
    "labels = pd.read_csv(\"./dengue_labels_train.csv\")"
   ]
  },
  {
   "cell_type": "code",
   "execution_count": 3,
   "metadata": {},
   "outputs": [],
   "source": [
    "labels = labels['total_cases']"
   ]
  },
  {
   "cell_type": "markdown",
   "metadata": {},
   "source": [
    "### Dealing with `NaN` values"
   ]
  },
  {
   "cell_type": "markdown",
   "metadata": {},
   "source": [
    "we need to get rid of NaN values otherwise our training models will have errors and the code will not execute."
   ]
  },
  {
   "cell_type": "code",
   "execution_count": 4,
   "metadata": {},
   "outputs": [
    {
     "data": {
      "text/plain": [
       "city                                       0\n",
       "year                                       0\n",
       "weekofyear                                 0\n",
       "week_start_date                            0\n",
       "ndvi_ne                                  194\n",
       "ndvi_nw                                   52\n",
       "ndvi_se                                   22\n",
       "ndvi_sw                                   22\n",
       "precipitation_amt_mm                      13\n",
       "reanalysis_air_temp_k                     10\n",
       "reanalysis_avg_temp_k                     10\n",
       "reanalysis_dew_point_temp_k               10\n",
       "reanalysis_max_air_temp_k                 10\n",
       "reanalysis_min_air_temp_k                 10\n",
       "reanalysis_precip_amt_kg_per_m2           10\n",
       "reanalysis_relative_humidity_percent      10\n",
       "reanalysis_sat_precip_amt_mm              13\n",
       "reanalysis_specific_humidity_g_per_kg     10\n",
       "reanalysis_tdtr_k                         10\n",
       "station_avg_temp_c                        43\n",
       "station_diur_temp_rng_c                   43\n",
       "station_max_temp_c                        20\n",
       "station_min_temp_c                        14\n",
       "station_precip_mm                         22\n",
       "dtype: int64"
      ]
     },
     "execution_count": 4,
     "metadata": {},
     "output_type": "execute_result"
    }
   ],
   "source": [
    "train_features.isna().sum()"
   ]
  },
  {
   "cell_type": "code",
   "execution_count": 5,
   "metadata": {},
   "outputs": [
    {
     "data": {
      "text/plain": [
       "city                                      0\n",
       "year                                      0\n",
       "weekofyear                                0\n",
       "week_start_date                           0\n",
       "ndvi_ne                                  43\n",
       "ndvi_nw                                  11\n",
       "ndvi_se                                   1\n",
       "ndvi_sw                                   1\n",
       "precipitation_amt_mm                      2\n",
       "reanalysis_air_temp_k                     2\n",
       "reanalysis_avg_temp_k                     2\n",
       "reanalysis_dew_point_temp_k               2\n",
       "reanalysis_max_air_temp_k                 2\n",
       "reanalysis_min_air_temp_k                 2\n",
       "reanalysis_precip_amt_kg_per_m2           2\n",
       "reanalysis_relative_humidity_percent      2\n",
       "reanalysis_sat_precip_amt_mm              2\n",
       "reanalysis_specific_humidity_g_per_kg     2\n",
       "reanalysis_tdtr_k                         2\n",
       "station_avg_temp_c                       12\n",
       "station_diur_temp_rng_c                  12\n",
       "station_max_temp_c                        3\n",
       "station_min_temp_c                        9\n",
       "station_precip_mm                         5\n",
       "dtype: int64"
      ]
     },
     "execution_count": 5,
     "metadata": {},
     "output_type": "execute_result"
    }
   ],
   "source": [
    "test_features.isna().sum()"
   ]
  },
  {
   "cell_type": "code",
   "execution_count": 6,
   "metadata": {},
   "outputs": [],
   "source": [
    "train_features.fillna(train_features.mean(), inplace=True)\n",
    "test_features.fillna(train_features.mean(), inplace=True)"
   ]
  },
  {
   "cell_type": "markdown",
   "metadata": {},
   "source": [
    "### Converting categorical columns to numerical"
   ]
  },
  {
   "cell_type": "markdown",
   "metadata": {},
   "source": [
    "As numerical data allows us to perform arithmetic operations on them, further we need to conver categorical data as city to numerical."
   ]
  },
  {
   "cell_type": "code",
   "execution_count": 7,
   "metadata": {},
   "outputs": [
    {
     "data": {
      "text/html": [
       "<div>\n",
       "<style scoped>\n",
       "    .dataframe tbody tr th:only-of-type {\n",
       "        vertical-align: middle;\n",
       "    }\n",
       "\n",
       "    .dataframe tbody tr th {\n",
       "        vertical-align: top;\n",
       "    }\n",
       "\n",
       "    .dataframe thead th {\n",
       "        text-align: right;\n",
       "    }\n",
       "</style>\n",
       "<table border=\"1\" class=\"dataframe\">\n",
       "  <thead>\n",
       "    <tr style=\"text-align: right;\">\n",
       "      <th></th>\n",
       "      <th>city</th>\n",
       "      <th>year</th>\n",
       "      <th>weekofyear</th>\n",
       "      <th>week_start_date</th>\n",
       "      <th>ndvi_ne</th>\n",
       "      <th>ndvi_nw</th>\n",
       "      <th>ndvi_se</th>\n",
       "      <th>ndvi_sw</th>\n",
       "      <th>precipitation_amt_mm</th>\n",
       "      <th>reanalysis_air_temp_k</th>\n",
       "      <th>...</th>\n",
       "      <th>reanalysis_precip_amt_kg_per_m2</th>\n",
       "      <th>reanalysis_relative_humidity_percent</th>\n",
       "      <th>reanalysis_sat_precip_amt_mm</th>\n",
       "      <th>reanalysis_specific_humidity_g_per_kg</th>\n",
       "      <th>reanalysis_tdtr_k</th>\n",
       "      <th>station_avg_temp_c</th>\n",
       "      <th>station_diur_temp_rng_c</th>\n",
       "      <th>station_max_temp_c</th>\n",
       "      <th>station_min_temp_c</th>\n",
       "      <th>station_precip_mm</th>\n",
       "    </tr>\n",
       "  </thead>\n",
       "  <tbody>\n",
       "    <tr>\n",
       "      <th>0</th>\n",
       "      <td>1</td>\n",
       "      <td>1990</td>\n",
       "      <td>18</td>\n",
       "      <td>1990-04-30</td>\n",
       "      <td>0.122600</td>\n",
       "      <td>0.103725</td>\n",
       "      <td>0.198483</td>\n",
       "      <td>0.177617</td>\n",
       "      <td>12.42</td>\n",
       "      <td>297.572857</td>\n",
       "      <td>...</td>\n",
       "      <td>32.00</td>\n",
       "      <td>73.365714</td>\n",
       "      <td>12.42</td>\n",
       "      <td>14.012857</td>\n",
       "      <td>2.628571</td>\n",
       "      <td>25.442857</td>\n",
       "      <td>6.900000</td>\n",
       "      <td>29.4</td>\n",
       "      <td>20.0</td>\n",
       "      <td>16.0</td>\n",
       "    </tr>\n",
       "    <tr>\n",
       "      <th>1</th>\n",
       "      <td>1</td>\n",
       "      <td>1990</td>\n",
       "      <td>19</td>\n",
       "      <td>1990-05-07</td>\n",
       "      <td>0.169900</td>\n",
       "      <td>0.142175</td>\n",
       "      <td>0.162357</td>\n",
       "      <td>0.155486</td>\n",
       "      <td>22.82</td>\n",
       "      <td>298.211429</td>\n",
       "      <td>...</td>\n",
       "      <td>17.94</td>\n",
       "      <td>77.368571</td>\n",
       "      <td>22.82</td>\n",
       "      <td>15.372857</td>\n",
       "      <td>2.371429</td>\n",
       "      <td>26.714286</td>\n",
       "      <td>6.371429</td>\n",
       "      <td>31.7</td>\n",
       "      <td>22.2</td>\n",
       "      <td>8.6</td>\n",
       "    </tr>\n",
       "    <tr>\n",
       "      <th>2</th>\n",
       "      <td>1</td>\n",
       "      <td>1990</td>\n",
       "      <td>20</td>\n",
       "      <td>1990-05-14</td>\n",
       "      <td>0.032250</td>\n",
       "      <td>0.172967</td>\n",
       "      <td>0.157200</td>\n",
       "      <td>0.170843</td>\n",
       "      <td>34.54</td>\n",
       "      <td>298.781429</td>\n",
       "      <td>...</td>\n",
       "      <td>26.10</td>\n",
       "      <td>82.052857</td>\n",
       "      <td>34.54</td>\n",
       "      <td>16.848571</td>\n",
       "      <td>2.300000</td>\n",
       "      <td>26.714286</td>\n",
       "      <td>6.485714</td>\n",
       "      <td>32.2</td>\n",
       "      <td>22.8</td>\n",
       "      <td>41.4</td>\n",
       "    </tr>\n",
       "    <tr>\n",
       "      <th>3</th>\n",
       "      <td>1</td>\n",
       "      <td>1990</td>\n",
       "      <td>21</td>\n",
       "      <td>1990-05-21</td>\n",
       "      <td>0.128633</td>\n",
       "      <td>0.245067</td>\n",
       "      <td>0.227557</td>\n",
       "      <td>0.235886</td>\n",
       "      <td>15.36</td>\n",
       "      <td>298.987143</td>\n",
       "      <td>...</td>\n",
       "      <td>13.90</td>\n",
       "      <td>80.337143</td>\n",
       "      <td>15.36</td>\n",
       "      <td>16.672857</td>\n",
       "      <td>2.428571</td>\n",
       "      <td>27.471429</td>\n",
       "      <td>6.771429</td>\n",
       "      <td>33.3</td>\n",
       "      <td>23.3</td>\n",
       "      <td>4.0</td>\n",
       "    </tr>\n",
       "    <tr>\n",
       "      <th>4</th>\n",
       "      <td>1</td>\n",
       "      <td>1990</td>\n",
       "      <td>22</td>\n",
       "      <td>1990-05-28</td>\n",
       "      <td>0.196200</td>\n",
       "      <td>0.262200</td>\n",
       "      <td>0.251200</td>\n",
       "      <td>0.247340</td>\n",
       "      <td>7.52</td>\n",
       "      <td>299.518571</td>\n",
       "      <td>...</td>\n",
       "      <td>12.20</td>\n",
       "      <td>80.460000</td>\n",
       "      <td>7.52</td>\n",
       "      <td>17.210000</td>\n",
       "      <td>3.014286</td>\n",
       "      <td>28.942857</td>\n",
       "      <td>9.371429</td>\n",
       "      <td>35.0</td>\n",
       "      <td>23.9</td>\n",
       "      <td>5.8</td>\n",
       "    </tr>\n",
       "  </tbody>\n",
       "</table>\n",
       "<p>5 rows × 24 columns</p>\n",
       "</div>"
      ],
      "text/plain": [
       "   city  year  weekofyear week_start_date   ndvi_ne   ndvi_nw   ndvi_se  \\\n",
       "0     1  1990          18      1990-04-30  0.122600  0.103725  0.198483   \n",
       "1     1  1990          19      1990-05-07  0.169900  0.142175  0.162357   \n",
       "2     1  1990          20      1990-05-14  0.032250  0.172967  0.157200   \n",
       "3     1  1990          21      1990-05-21  0.128633  0.245067  0.227557   \n",
       "4     1  1990          22      1990-05-28  0.196200  0.262200  0.251200   \n",
       "\n",
       "    ndvi_sw  precipitation_amt_mm  reanalysis_air_temp_k  ...  \\\n",
       "0  0.177617                 12.42             297.572857  ...   \n",
       "1  0.155486                 22.82             298.211429  ...   \n",
       "2  0.170843                 34.54             298.781429  ...   \n",
       "3  0.235886                 15.36             298.987143  ...   \n",
       "4  0.247340                  7.52             299.518571  ...   \n",
       "\n",
       "   reanalysis_precip_amt_kg_per_m2  reanalysis_relative_humidity_percent  \\\n",
       "0                            32.00                             73.365714   \n",
       "1                            17.94                             77.368571   \n",
       "2                            26.10                             82.052857   \n",
       "3                            13.90                             80.337143   \n",
       "4                            12.20                             80.460000   \n",
       "\n",
       "   reanalysis_sat_precip_amt_mm  reanalysis_specific_humidity_g_per_kg  \\\n",
       "0                         12.42                              14.012857   \n",
       "1                         22.82                              15.372857   \n",
       "2                         34.54                              16.848571   \n",
       "3                         15.36                              16.672857   \n",
       "4                          7.52                              17.210000   \n",
       "\n",
       "   reanalysis_tdtr_k  station_avg_temp_c  station_diur_temp_rng_c  \\\n",
       "0           2.628571           25.442857                 6.900000   \n",
       "1           2.371429           26.714286                 6.371429   \n",
       "2           2.300000           26.714286                 6.485714   \n",
       "3           2.428571           27.471429                 6.771429   \n",
       "4           3.014286           28.942857                 9.371429   \n",
       "\n",
       "   station_max_temp_c  station_min_temp_c  station_precip_mm  \n",
       "0                29.4                20.0               16.0  \n",
       "1                31.7                22.2                8.6  \n",
       "2                32.2                22.8               41.4  \n",
       "3                33.3                23.3                4.0  \n",
       "4                35.0                23.9                5.8  \n",
       "\n",
       "[5 rows x 24 columns]"
      ]
     },
     "execution_count": 7,
     "metadata": {},
     "output_type": "execute_result"
    }
   ],
   "source": [
    "# converting categorical columns\n",
    "# 1 is sj, 0 is iq\n",
    "def convert_categorical(df):\n",
    "    df[\"city\"] = df[\"city\"].astype('category')\n",
    "    cat_columns = df.select_dtypes(['category']).columns\n",
    "    df[cat_columns] = df[cat_columns].apply(lambda x: x.cat.codes)\n",
    "    return df\n",
    "\n",
    "train_features = convert_categorical(train_features)\n",
    "test_features = convert_categorical(test_features)\n",
    "train_features.head()"
   ]
  },
  {
   "cell_type": "markdown",
   "metadata": {},
   "source": [
    "### Datetime Conversion"
   ]
  },
  {
   "cell_type": "markdown",
   "metadata": {},
   "source": [
    "As the week_start_date_column is type of 'object', we need to convert it to date format to work with it further. "
   ]
  },
  {
   "cell_type": "code",
   "execution_count": 8,
   "metadata": {},
   "outputs": [],
   "source": [
    "# date time preprocessing\n",
    "from datetime import datetime\n",
    "\n",
    "def convert_dt(df):\n",
    "    df['week_start_date'] = pd.to_datetime(df['week_start_date'], \\\n",
    "                                    format='%Y%m%dT', errors='coerce')\n",
    "    return df\n",
    "\n",
    "train_features = convert_dt(train_features)\n",
    "test_features = convert_dt(test_features)"
   ]
  },
  {
   "cell_type": "code",
   "execution_count": 9,
   "metadata": {},
   "outputs": [
    {
     "data": {
      "text/html": [
       "<div>\n",
       "<style scoped>\n",
       "    .dataframe tbody tr th:only-of-type {\n",
       "        vertical-align: middle;\n",
       "    }\n",
       "\n",
       "    .dataframe tbody tr th {\n",
       "        vertical-align: top;\n",
       "    }\n",
       "\n",
       "    .dataframe thead th {\n",
       "        text-align: right;\n",
       "    }\n",
       "</style>\n",
       "<table border=\"1\" class=\"dataframe\">\n",
       "  <thead>\n",
       "    <tr style=\"text-align: right;\">\n",
       "      <th></th>\n",
       "      <th>city</th>\n",
       "      <th>year</th>\n",
       "      <th>weekofyear</th>\n",
       "      <th>week_start_date</th>\n",
       "      <th>ndvi_ne</th>\n",
       "      <th>ndvi_nw</th>\n",
       "      <th>ndvi_se</th>\n",
       "      <th>ndvi_sw</th>\n",
       "      <th>precipitation_amt_mm</th>\n",
       "      <th>reanalysis_air_temp_k</th>\n",
       "      <th>...</th>\n",
       "      <th>reanalysis_precip_amt_kg_per_m2</th>\n",
       "      <th>reanalysis_relative_humidity_percent</th>\n",
       "      <th>reanalysis_sat_precip_amt_mm</th>\n",
       "      <th>reanalysis_specific_humidity_g_per_kg</th>\n",
       "      <th>reanalysis_tdtr_k</th>\n",
       "      <th>station_avg_temp_c</th>\n",
       "      <th>station_diur_temp_rng_c</th>\n",
       "      <th>station_max_temp_c</th>\n",
       "      <th>station_min_temp_c</th>\n",
       "      <th>station_precip_mm</th>\n",
       "    </tr>\n",
       "  </thead>\n",
       "  <tbody>\n",
       "    <tr>\n",
       "      <th>0</th>\n",
       "      <td>1</td>\n",
       "      <td>1990</td>\n",
       "      <td>18</td>\n",
       "      <td>1990-04-30</td>\n",
       "      <td>0.122600</td>\n",
       "      <td>0.103725</td>\n",
       "      <td>0.198483</td>\n",
       "      <td>0.177617</td>\n",
       "      <td>12.42</td>\n",
       "      <td>297.572857</td>\n",
       "      <td>...</td>\n",
       "      <td>32.00</td>\n",
       "      <td>73.365714</td>\n",
       "      <td>12.42</td>\n",
       "      <td>14.012857</td>\n",
       "      <td>2.628571</td>\n",
       "      <td>25.442857</td>\n",
       "      <td>6.900000</td>\n",
       "      <td>29.4</td>\n",
       "      <td>20.0</td>\n",
       "      <td>16.0</td>\n",
       "    </tr>\n",
       "    <tr>\n",
       "      <th>1</th>\n",
       "      <td>1</td>\n",
       "      <td>1990</td>\n",
       "      <td>19</td>\n",
       "      <td>1990-05-07</td>\n",
       "      <td>0.169900</td>\n",
       "      <td>0.142175</td>\n",
       "      <td>0.162357</td>\n",
       "      <td>0.155486</td>\n",
       "      <td>22.82</td>\n",
       "      <td>298.211429</td>\n",
       "      <td>...</td>\n",
       "      <td>17.94</td>\n",
       "      <td>77.368571</td>\n",
       "      <td>22.82</td>\n",
       "      <td>15.372857</td>\n",
       "      <td>2.371429</td>\n",
       "      <td>26.714286</td>\n",
       "      <td>6.371429</td>\n",
       "      <td>31.7</td>\n",
       "      <td>22.2</td>\n",
       "      <td>8.6</td>\n",
       "    </tr>\n",
       "    <tr>\n",
       "      <th>2</th>\n",
       "      <td>1</td>\n",
       "      <td>1990</td>\n",
       "      <td>20</td>\n",
       "      <td>1990-05-14</td>\n",
       "      <td>0.032250</td>\n",
       "      <td>0.172967</td>\n",
       "      <td>0.157200</td>\n",
       "      <td>0.170843</td>\n",
       "      <td>34.54</td>\n",
       "      <td>298.781429</td>\n",
       "      <td>...</td>\n",
       "      <td>26.10</td>\n",
       "      <td>82.052857</td>\n",
       "      <td>34.54</td>\n",
       "      <td>16.848571</td>\n",
       "      <td>2.300000</td>\n",
       "      <td>26.714286</td>\n",
       "      <td>6.485714</td>\n",
       "      <td>32.2</td>\n",
       "      <td>22.8</td>\n",
       "      <td>41.4</td>\n",
       "    </tr>\n",
       "    <tr>\n",
       "      <th>3</th>\n",
       "      <td>1</td>\n",
       "      <td>1990</td>\n",
       "      <td>21</td>\n",
       "      <td>1990-05-21</td>\n",
       "      <td>0.128633</td>\n",
       "      <td>0.245067</td>\n",
       "      <td>0.227557</td>\n",
       "      <td>0.235886</td>\n",
       "      <td>15.36</td>\n",
       "      <td>298.987143</td>\n",
       "      <td>...</td>\n",
       "      <td>13.90</td>\n",
       "      <td>80.337143</td>\n",
       "      <td>15.36</td>\n",
       "      <td>16.672857</td>\n",
       "      <td>2.428571</td>\n",
       "      <td>27.471429</td>\n",
       "      <td>6.771429</td>\n",
       "      <td>33.3</td>\n",
       "      <td>23.3</td>\n",
       "      <td>4.0</td>\n",
       "    </tr>\n",
       "    <tr>\n",
       "      <th>4</th>\n",
       "      <td>1</td>\n",
       "      <td>1990</td>\n",
       "      <td>22</td>\n",
       "      <td>1990-05-28</td>\n",
       "      <td>0.196200</td>\n",
       "      <td>0.262200</td>\n",
       "      <td>0.251200</td>\n",
       "      <td>0.247340</td>\n",
       "      <td>7.52</td>\n",
       "      <td>299.518571</td>\n",
       "      <td>...</td>\n",
       "      <td>12.20</td>\n",
       "      <td>80.460000</td>\n",
       "      <td>7.52</td>\n",
       "      <td>17.210000</td>\n",
       "      <td>3.014286</td>\n",
       "      <td>28.942857</td>\n",
       "      <td>9.371429</td>\n",
       "      <td>35.0</td>\n",
       "      <td>23.9</td>\n",
       "      <td>5.8</td>\n",
       "    </tr>\n",
       "  </tbody>\n",
       "</table>\n",
       "<p>5 rows × 24 columns</p>\n",
       "</div>"
      ],
      "text/plain": [
       "   city  year  weekofyear week_start_date   ndvi_ne   ndvi_nw   ndvi_se  \\\n",
       "0     1  1990          18      1990-04-30  0.122600  0.103725  0.198483   \n",
       "1     1  1990          19      1990-05-07  0.169900  0.142175  0.162357   \n",
       "2     1  1990          20      1990-05-14  0.032250  0.172967  0.157200   \n",
       "3     1  1990          21      1990-05-21  0.128633  0.245067  0.227557   \n",
       "4     1  1990          22      1990-05-28  0.196200  0.262200  0.251200   \n",
       "\n",
       "    ndvi_sw  precipitation_amt_mm  reanalysis_air_temp_k  ...  \\\n",
       "0  0.177617                 12.42             297.572857  ...   \n",
       "1  0.155486                 22.82             298.211429  ...   \n",
       "2  0.170843                 34.54             298.781429  ...   \n",
       "3  0.235886                 15.36             298.987143  ...   \n",
       "4  0.247340                  7.52             299.518571  ...   \n",
       "\n",
       "   reanalysis_precip_amt_kg_per_m2  reanalysis_relative_humidity_percent  \\\n",
       "0                            32.00                             73.365714   \n",
       "1                            17.94                             77.368571   \n",
       "2                            26.10                             82.052857   \n",
       "3                            13.90                             80.337143   \n",
       "4                            12.20                             80.460000   \n",
       "\n",
       "   reanalysis_sat_precip_amt_mm  reanalysis_specific_humidity_g_per_kg  \\\n",
       "0                         12.42                              14.012857   \n",
       "1                         22.82                              15.372857   \n",
       "2                         34.54                              16.848571   \n",
       "3                         15.36                              16.672857   \n",
       "4                          7.52                              17.210000   \n",
       "\n",
       "   reanalysis_tdtr_k  station_avg_temp_c  station_diur_temp_rng_c  \\\n",
       "0           2.628571           25.442857                 6.900000   \n",
       "1           2.371429           26.714286                 6.371429   \n",
       "2           2.300000           26.714286                 6.485714   \n",
       "3           2.428571           27.471429                 6.771429   \n",
       "4           3.014286           28.942857                 9.371429   \n",
       "\n",
       "   station_max_temp_c  station_min_temp_c  station_precip_mm  \n",
       "0                29.4                20.0               16.0  \n",
       "1                31.7                22.2                8.6  \n",
       "2                32.2                22.8               41.4  \n",
       "3                33.3                23.3                4.0  \n",
       "4                35.0                23.9                5.8  \n",
       "\n",
       "[5 rows x 24 columns]"
      ]
     },
     "execution_count": 9,
     "metadata": {},
     "output_type": "execute_result"
    }
   ],
   "source": [
    "train_features.head()"
   ]
  },
  {
   "cell_type": "code",
   "execution_count": 10,
   "metadata": {},
   "outputs": [
    {
     "data": {
      "text/plain": [
       "city                                               int8\n",
       "year                                              int64\n",
       "weekofyear                                        int64\n",
       "week_start_date                          datetime64[ns]\n",
       "ndvi_ne                                         float64\n",
       "ndvi_nw                                         float64\n",
       "ndvi_se                                         float64\n",
       "ndvi_sw                                         float64\n",
       "precipitation_amt_mm                            float64\n",
       "reanalysis_air_temp_k                           float64\n",
       "reanalysis_avg_temp_k                           float64\n",
       "reanalysis_dew_point_temp_k                     float64\n",
       "reanalysis_max_air_temp_k                       float64\n",
       "reanalysis_min_air_temp_k                       float64\n",
       "reanalysis_precip_amt_kg_per_m2                 float64\n",
       "reanalysis_relative_humidity_percent            float64\n",
       "reanalysis_sat_precip_amt_mm                    float64\n",
       "reanalysis_specific_humidity_g_per_kg           float64\n",
       "reanalysis_tdtr_k                               float64\n",
       "station_avg_temp_c                              float64\n",
       "station_diur_temp_rng_c                         float64\n",
       "station_max_temp_c                              float64\n",
       "station_min_temp_c                              float64\n",
       "station_precip_mm                               float64\n",
       "dtype: object"
      ]
     },
     "execution_count": 10,
     "metadata": {},
     "output_type": "execute_result"
    }
   ],
   "source": [
    "train_features.dtypes"
   ]
  },
  {
   "cell_type": "markdown",
   "metadata": {},
   "source": [
    "### Checking for repeating columns & removal and such columns"
   ]
  },
  {
   "cell_type": "markdown",
   "metadata": {},
   "source": [
    "repeating columns are redundant and may affect our training models and results accordingly. So let's find such columns and drop one of them. "
   ]
  },
  {
   "cell_type": "code",
   "execution_count": 11,
   "metadata": {},
   "outputs": [],
   "source": [
    "des_train_features = train_features.describe()\n",
    "des_test_features = test_features.describe()"
   ]
  },
  {
   "cell_type": "code",
   "execution_count": 12,
   "metadata": {},
   "outputs": [
    {
     "name": "stdout",
     "output_type": "stream",
     "text": [
      "['precipitation_amt_mm', 'reanalysis_sat_precip_amt_mm']\n",
      "['precipitation_amt_mm', 'reanalysis_sat_precip_amt_mm']\n"
     ]
    }
   ],
   "source": [
    "import collections\n",
    "\n",
    "def get_same_col(des_df):\n",
    "    cols = des_df.columns\n",
    "    res = {}\n",
    "    for c in cols:\n",
    "        if des_df[c]['std'] in res:\n",
    "            res[des_df[c]['std']].append(c)\n",
    "        else:\n",
    "            res[des_df[c]['std']] = [c]\n",
    "\n",
    "    ans = [v for k,v in res.items() if len(v) > 1][0]\n",
    "    return ans\n",
    "train_same_cols = get_same_col(des_train_features)\n",
    "test_same_cols = get_same_col(des_test_features)\n",
    "\n",
    "print(train_same_cols)\n",
    "print(test_same_cols)"
   ]
  },
  {
   "cell_type": "code",
   "execution_count": 13,
   "metadata": {},
   "outputs": [],
   "source": [
    "# dropping one of the coumn\n",
    "train_features.drop(train_same_cols[0], axis=1, inplace=True)\n",
    "test_features.drop(test_same_cols[0], axis=1, inplace=True)"
   ]
  },
  {
   "cell_type": "markdown",
   "metadata": {},
   "source": [
    "## Analysis"
   ]
  },
  {
   "cell_type": "markdown",
   "metadata": {},
   "source": [
    "### Total cases against the vegetation index (NDVI)\n",
    "\n",
    "Looking at the data, there are 4 kinds of columns regarding the vegetation index (NDVI). Let us take a look at how these indices are related to the cases of dengue"
   ]
  },
  {
   "cell_type": "code",
   "execution_count": 14,
   "metadata": {},
   "outputs": [],
   "source": [
    "import seaborn as sns\n",
    "import matplotlib.pyplot as plt"
   ]
  },
  {
   "cell_type": "code",
   "execution_count": 15,
   "metadata": {},
   "outputs": [],
   "source": [
    "train_features['total_cases'] = labels"
   ]
  },
  {
   "cell_type": "markdown",
   "metadata": {},
   "source": [
    "### Cases per year"
   ]
  },
  {
   "cell_type": "markdown",
   "metadata": {},
   "source": [
    "Now let's find a tendency of how the number of diseases behave during 1990-2010. "
   ]
  },
  {
   "cell_type": "code",
   "execution_count": 16,
   "metadata": {},
   "outputs": [
    {
     "data": {
      "image/png": "[encoded data removed]",
      "text/plain": [
       "<Figure size 720x360 with 1 Axes>"
      ]
     },
     "metadata": {
      "needs_background": "light"
     },
     "output_type": "display_data"
    }
   ],
   "source": [
    "import numpy as np\n",
    "\n",
    "fig,ax = plt.subplots(figsize=(10,5))\n",
    "for i in np.unique(train_features['week_start_date'].dt.year.values):\n",
    "    plt.plot(train_features[train_features['week_start_date'].dt.year==i].week_start_date.T,train_features[train_features['week_start_date'].dt.year==i].total_cases,label='%d'%(i));\n",
    "    plt.legend();\n",
    "    plt.title('Dengue Fever Cases per Year');\n",
    "    plt.xlabel('Year')\n",
    "    plt.ylabel('Number of Cases')\n",
    "    ax.legend(bbox_to_anchor=(1.25, 1.05))"
   ]
  },
  {
   "cell_type": "markdown",
   "metadata": {},
   "source": [
    "As you can see above, the number of cases in 1994 was the highest one and lowest one in 2009. Maybe it is connected with the imporving quality of medicine in local areas. Also as you can note after a high peak there is a sharp down in 1995. Probably there is an immunity for a dengue disease appeared in a local people."
   ]
  },
  {
   "cell_type": "code",
   "execution_count": 17,
   "metadata": {
    "scrolled": true
   },
   "outputs": [
    {
     "data": {
      "text/plain": [
       "Text(0.5, 0.98, 'DENGUE ACTUAL CASES')"
      ]
     },
     "execution_count": 17,
     "metadata": {},
     "output_type": "execute_result"
    },
    {
     "data": {
      "image/png": "[encoded data removed]",
      "text/plain": [
       "<Figure size 1152x288 with 2 Axes>"
      ]
     },
     "metadata": {
      "needs_background": "light"
     },
     "output_type": "display_data"
    }
   ],
   "source": [
    "figs, axes = plt.subplots(nrows=2, ncols=1, figsize=(16, 4))\n",
    "\n",
    "ax = train_features[train_features['city'] == 1].total_cases.plot(ax=axes[0], label=\"San Juan\", color='g')\n",
    "ax.set_title('SAN JOSE')\n",
    "ax.set_xticklabels([])\n",
    "ax.set_xlabel(\"\")\n",
    "\n",
    "# plot iq\n",
    "ax1 = train_features[train_features['city'] == 0].total_cases.plot(ax=axes[1], label=\"Iquitos\")\n",
    "ax1.set_title('IQUITOS')\n",
    "ax1.set_xlabel(\"YEAR\")\n",
    "\n",
    "plt.suptitle(\"DENGUE ACTUAL CASES\")"
   ]
  },
  {
   "cell_type": "markdown",
   "metadata": {},
   "source": [
    "The graphs show that the tendency of cases in both cities are a bit similar, however the number of cases per year are sharply different: in San Jose it is 4 times higher and the peak number of cases were observed approximately in 1070 year, while the peak number of cases for city IQUITOS was in ~1160."
   ]
  },
  {
   "cell_type": "code",
   "execution_count": 18,
   "metadata": {},
   "outputs": [],
   "source": [
    "train_features.drop('total_cases', 1, inplace=True)"
   ]
  },
  {
   "cell_type": "markdown",
   "metadata": {},
   "source": [
    "## Features Importance"
   ]
  },
  {
   "cell_type": "markdown",
   "metadata": {},
   "source": [
    "So now we will standardize features by removing the mean and scaling to unit variance.  We will use Standard scaler for that purpose(we used def apply_scaler). We use it to analize features, to understand which features can be dropped before fitting.\n"
   ]
  },
  {
   "cell_type": "code",
   "execution_count": 19,
   "metadata": {},
   "outputs": [],
   "source": [
    "from sklearn.model_selection import train_test_split\n",
    "import matplotlib.pyplot as plt\n",
    "\n",
    "import numpy as np\n",
    "from sklearn.feature_selection import SelectKBest\n",
    "from sklearn.feature_selection import chi2"
   ]
  },
  {
   "cell_type": "code",
   "execution_count": 20,
   "metadata": {},
   "outputs": [
    {
     "data": {
      "text/html": [
       "<div>\n",
       "<style scoped>\n",
       "    .dataframe tbody tr th:only-of-type {\n",
       "        vertical-align: middle;\n",
       "    }\n",
       "\n",
       "    .dataframe tbody tr th {\n",
       "        vertical-align: top;\n",
       "    }\n",
       "\n",
       "    .dataframe thead th {\n",
       "        text-align: right;\n",
       "    }\n",
       "</style>\n",
       "<table border=\"1\" class=\"dataframe\">\n",
       "  <thead>\n",
       "    <tr style=\"text-align: right;\">\n",
       "      <th></th>\n",
       "      <th>city</th>\n",
       "      <th>ndvi_ne</th>\n",
       "      <th>ndvi_nw</th>\n",
       "      <th>ndvi_se</th>\n",
       "      <th>ndvi_sw</th>\n",
       "      <th>reanalysis_air_temp_k</th>\n",
       "      <th>reanalysis_avg_temp_k</th>\n",
       "      <th>reanalysis_dew_point_temp_k</th>\n",
       "      <th>reanalysis_max_air_temp_k</th>\n",
       "      <th>reanalysis_min_air_temp_k</th>\n",
       "      <th>reanalysis_precip_amt_kg_per_m2</th>\n",
       "      <th>reanalysis_relative_humidity_percent</th>\n",
       "      <th>reanalysis_sat_precip_amt_mm</th>\n",
       "      <th>reanalysis_specific_humidity_g_per_kg</th>\n",
       "      <th>reanalysis_tdtr_k</th>\n",
       "      <th>station_avg_temp_c</th>\n",
       "      <th>station_diur_temp_rng_c</th>\n",
       "      <th>station_max_temp_c</th>\n",
       "      <th>station_min_temp_c</th>\n",
       "      <th>station_precip_mm</th>\n",
       "    </tr>\n",
       "  </thead>\n",
       "  <tbody>\n",
       "    <tr>\n",
       "      <th>0</th>\n",
       "      <td>1.0</td>\n",
       "      <td>0.578226</td>\n",
       "      <td>0.614835</td>\n",
       "      <td>0.386418</td>\n",
       "      <td>0.395544</td>\n",
       "      <td>0.388291</td>\n",
       "      <td>0.354667</td>\n",
       "      <td>0.314680</td>\n",
       "      <td>0.123457</td>\n",
       "      <td>0.692308</td>\n",
       "      <td>0.056091</td>\n",
       "      <td>0.381614</td>\n",
       "      <td>0.031797</td>\n",
       "      <td>0.262659</td>\n",
       "      <td>0.086660</td>\n",
       "      <td>0.430091</td>\n",
       "      <td>0.210393</td>\n",
       "      <td>0.174194</td>\n",
       "      <td>0.486239</td>\n",
       "      <td>0.029450</td>\n",
       "    </tr>\n",
       "    <tr>\n",
       "      <th>1</th>\n",
       "      <td>1.0</td>\n",
       "      <td>0.629943</td>\n",
       "      <td>0.657063</td>\n",
       "      <td>0.321190</td>\n",
       "      <td>0.359233</td>\n",
       "      <td>0.472710</td>\n",
       "      <td>0.441778</td>\n",
       "      <td>0.489213</td>\n",
       "      <td>0.191358</td>\n",
       "      <td>0.730769</td>\n",
       "      <td>0.031446</td>\n",
       "      <td>0.479668</td>\n",
       "      <td>0.058423</td>\n",
       "      <td>0.418164</td>\n",
       "      <td>0.069133</td>\n",
       "      <td>0.565350</td>\n",
       "      <td>0.163498</td>\n",
       "      <td>0.322581</td>\n",
       "      <td>0.688073</td>\n",
       "      <td>0.015829</td>\n",
       "    </tr>\n",
       "    <tr>\n",
       "      <th>2</th>\n",
       "      <td>1.0</td>\n",
       "      <td>0.479441</td>\n",
       "      <td>0.690881</td>\n",
       "      <td>0.311879</td>\n",
       "      <td>0.384430</td>\n",
       "      <td>0.548064</td>\n",
       "      <td>0.496000</td>\n",
       "      <td>0.657583</td>\n",
       "      <td>0.166667</td>\n",
       "      <td>0.800000</td>\n",
       "      <td>0.045749</td>\n",
       "      <td>0.594415</td>\n",
       "      <td>0.088428</td>\n",
       "      <td>0.586900</td>\n",
       "      <td>0.064265</td>\n",
       "      <td>0.565350</td>\n",
       "      <td>0.173638</td>\n",
       "      <td>0.354839</td>\n",
       "      <td>0.743119</td>\n",
       "      <td>0.076201</td>\n",
       "    </tr>\n",
       "    <tr>\n",
       "      <th>3</th>\n",
       "      <td>1.0</td>\n",
       "      <td>0.584823</td>\n",
       "      <td>0.770066</td>\n",
       "      <td>0.438912</td>\n",
       "      <td>0.491150</td>\n",
       "      <td>0.575260</td>\n",
       "      <td>0.539556</td>\n",
       "      <td>0.643471</td>\n",
       "      <td>0.222222</td>\n",
       "      <td>0.776923</td>\n",
       "      <td>0.024365</td>\n",
       "      <td>0.552387</td>\n",
       "      <td>0.039324</td>\n",
       "      <td>0.566808</td>\n",
       "      <td>0.073028</td>\n",
       "      <td>0.645897</td>\n",
       "      <td>0.198986</td>\n",
       "      <td>0.425806</td>\n",
       "      <td>0.788991</td>\n",
       "      <td>0.007362</td>\n",
       "    </tr>\n",
       "    <tr>\n",
       "      <th>4</th>\n",
       "      <td>1.0</td>\n",
       "      <td>0.658698</td>\n",
       "      <td>0.788882</td>\n",
       "      <td>0.481601</td>\n",
       "      <td>0.509943</td>\n",
       "      <td>0.645515</td>\n",
       "      <td>0.593778</td>\n",
       "      <td>0.701541</td>\n",
       "      <td>0.253086</td>\n",
       "      <td>0.815385</td>\n",
       "      <td>0.021385</td>\n",
       "      <td>0.555396</td>\n",
       "      <td>0.019252</td>\n",
       "      <td>0.628226</td>\n",
       "      <td>0.112950</td>\n",
       "      <td>0.802432</td>\n",
       "      <td>0.429658</td>\n",
       "      <td>0.535484</td>\n",
       "      <td>0.844037</td>\n",
       "      <td>0.010676</td>\n",
       "    </tr>\n",
       "  </tbody>\n",
       "</table>\n",
       "</div>"
      ],
      "text/plain": [
       "   city   ndvi_ne   ndvi_nw   ndvi_se   ndvi_sw  reanalysis_air_temp_k  \\\n",
       "0   1.0  0.578226  0.614835  0.386418  0.395544               0.388291   \n",
       "1   1.0  0.629943  0.657063  0.321190  0.359233               0.472710   \n",
       "2   1.0  0.479441  0.690881  0.311879  0.384430               0.548064   \n",
       "3   1.0  0.584823  0.770066  0.438912  0.491150               0.575260   \n",
       "4   1.0  0.658698  0.788882  0.481601  0.509943               0.645515   \n",
       "\n",
       "   reanalysis_avg_temp_k  reanalysis_dew_point_temp_k  \\\n",
       "0               0.354667                     0.314680   \n",
       "1               0.441778                     0.489213   \n",
       "2               0.496000                     0.657583   \n",
       "3               0.539556                     0.643471   \n",
       "4               0.593778                     0.701541   \n",
       "\n",
       "   reanalysis_max_air_temp_k  reanalysis_min_air_temp_k  \\\n",
       "0                   0.123457                   0.692308   \n",
       "1                   0.191358                   0.730769   \n",
       "2                   0.166667                   0.800000   \n",
       "3                   0.222222                   0.776923   \n",
       "4                   0.253086                   0.815385   \n",
       "\n",
       "   reanalysis_precip_amt_kg_per_m2  reanalysis_relative_humidity_percent  \\\n",
       "0                         0.056091                              0.381614   \n",
       "1                         0.031446                              0.479668   \n",
       "2                         0.045749                              0.594415   \n",
       "3                         0.024365                              0.552387   \n",
       "4                         0.021385                              0.555396   \n",
       "\n",
       "   reanalysis_sat_precip_amt_mm  reanalysis_specific_humidity_g_per_kg  \\\n",
       "0                      0.031797                               0.262659   \n",
       "1                      0.058423                               0.418164   \n",
       "2                      0.088428                               0.586900   \n",
       "3                      0.039324                               0.566808   \n",
       "4                      0.019252                               0.628226   \n",
       "\n",
       "   reanalysis_tdtr_k  station_avg_temp_c  station_diur_temp_rng_c  \\\n",
       "0           0.086660            0.430091                 0.210393   \n",
       "1           0.069133            0.565350                 0.163498   \n",
       "2           0.064265            0.565350                 0.173638   \n",
       "3           0.073028            0.645897                 0.198986   \n",
       "4           0.112950            0.802432                 0.429658   \n",
       "\n",
       "   station_max_temp_c  station_min_temp_c  station_precip_mm  \n",
       "0            0.174194            0.486239           0.029450  \n",
       "1            0.322581            0.688073           0.015829  \n",
       "2            0.354839            0.743119           0.076201  \n",
       "3            0.425806            0.788991           0.007362  \n",
       "4            0.535484            0.844037           0.010676  "
      ]
     },
     "execution_count": 20,
     "metadata": {},
     "output_type": "execute_result"
    }
   ],
   "source": [
    "import pandas as pd\n",
    "from sklearn import preprocessing\n",
    "\n",
    "def apply_scaler(df):\n",
    "    min_max_scaler = preprocessing.MinMaxScaler()\n",
    "    x_scaled = min_max_scaler.fit_transform(df)\n",
    "\n",
    "    norm_features_df = pd.DataFrame(min_max_scaler.transform(df), index=df.index, columns=df.columns)\n",
    "    norm_features_df.head()\n",
    "\n",
    "    return norm_features_df\n",
    "\n",
    "time_cols = ['year', 'week_start_date', 'weekofyear']\n",
    "norm_features_df = apply_scaler(train_features.drop(time_cols, 1))\n",
    "norm_features_df.head()"
   ]
  },
  {
   "cell_type": "markdown",
   "metadata": {},
   "source": [
    "Then we choose the best features for extracting best features of given dataset. The SelectKBest method selects the features according to the k highest score. Selecting best features is important process when we prepare a large dataset for training. It helps us to eliminate less important part of the data and reduce a training time.\n",
    "Three benefits of performing feature selection before modeling our data are:\n",
    "Reduces Overfitting: Less redundant data means less opportunity to make decisions based on noise.\n",
    "Improves Accuracy: Less misleading data means modeling accuracy improves.\n",
    "Reduces Training Time: Less data means that algorithms train faster."
   ]
  },
  {
   "cell_type": "code",
   "execution_count": 21,
   "metadata": {},
   "outputs": [
    {
     "name": "stdout",
     "output_type": "stream",
     "text": [
      "                                   Specs       Score\n",
      "0                                   city  176.432387\n",
      "14                     reanalysis_tdtr_k  119.179922\n",
      "16               station_diur_temp_rng_c   43.331075\n",
      "8              reanalysis_max_air_temp_k   42.999482\n",
      "9              reanalysis_min_air_temp_k   29.876255\n",
      "5                  reanalysis_air_temp_k   18.541845\n",
      "12          reanalysis_sat_precip_amt_mm   16.149352\n",
      "4                                ndvi_sw   10.699381\n",
      "18                    station_min_temp_c    9.890016\n",
      "3                                ndvi_se    9.501651\n",
      "19                     station_precip_mm    9.390242\n",
      "1                                ndvi_ne    9.258279\n",
      "17                    station_max_temp_c    9.127017\n",
      "11  reanalysis_relative_humidity_percent    7.957553\n",
      "6                  reanalysis_avg_temp_k    7.556995\n"
     ]
    }
   ],
   "source": [
    "bestfeatures = SelectKBest(score_func=chi2, k=10)\n",
    "fit = bestfeatures.fit(norm_features_df,labels)\n",
    "dfscores = pd.DataFrame(fit.scores_)\n",
    "dfcolumns = pd.DataFrame(norm_features_df.columns)\n",
    "\n",
    "#concat two dataframes for better visualization \n",
    "featureScores = pd.concat([dfcolumns,dfscores],axis=1)\n",
    "featureScores.columns = ['Specs','Score']  #naming the dataframe columns\n",
    "top10_features = featureScores.nlargest(15,'Score')\n",
    "print(top10_features)  #print 10 best features"
   ]
  },
  {
   "cell_type": "markdown",
   "metadata": {},
   "source": [
    "With our analysis (sns plots), most of the features we analyzed ended up to be chose as an important feature by `SelectKBest`"
   ]
  },
  {
   "cell_type": "code",
   "execution_count": 22,
   "metadata": {},
   "outputs": [
    {
     "name": "stdout",
     "output_type": "stream",
     "text": [
      "['city', 'reanalysis_tdtr_k', 'station_diur_temp_rng_c', 'reanalysis_max_air_temp_k', 'reanalysis_min_air_temp_k', 'reanalysis_air_temp_k', 'reanalysis_sat_precip_amt_mm', 'ndvi_sw', 'station_min_temp_c', 'ndvi_se', 'station_precip_mm', 'ndvi_ne', 'station_max_temp_c', 'reanalysis_relative_humidity_percent', 'reanalysis_avg_temp_k']\n"
     ]
    }
   ],
   "source": [
    "top10 = top10_features['Specs']\n",
    "print(list(top10))"
   ]
  },
  {
   "cell_type": "code",
   "execution_count": 23,
   "metadata": {},
   "outputs": [],
   "source": [
    "top10 = list(top10)"
   ]
  },
  {
   "cell_type": "code",
   "execution_count": 24,
   "metadata": {},
   "outputs": [
    {
     "data": {
      "text/html": [
       "<div>\n",
       "<style scoped>\n",
       "    .dataframe tbody tr th:only-of-type {\n",
       "        vertical-align: middle;\n",
       "    }\n",
       "\n",
       "    .dataframe tbody tr th {\n",
       "        vertical-align: top;\n",
       "    }\n",
       "\n",
       "    .dataframe thead th {\n",
       "        text-align: right;\n",
       "    }\n",
       "</style>\n",
       "<table border=\"1\" class=\"dataframe\">\n",
       "  <thead>\n",
       "    <tr style=\"text-align: right;\">\n",
       "      <th></th>\n",
       "      <th>city</th>\n",
       "      <th>reanalysis_tdtr_k</th>\n",
       "      <th>station_diur_temp_rng_c</th>\n",
       "      <th>reanalysis_max_air_temp_k</th>\n",
       "      <th>reanalysis_min_air_temp_k</th>\n",
       "      <th>reanalysis_air_temp_k</th>\n",
       "      <th>reanalysis_sat_precip_amt_mm</th>\n",
       "      <th>ndvi_sw</th>\n",
       "      <th>station_min_temp_c</th>\n",
       "      <th>ndvi_se</th>\n",
       "      <th>station_precip_mm</th>\n",
       "      <th>ndvi_ne</th>\n",
       "      <th>station_max_temp_c</th>\n",
       "      <th>reanalysis_relative_humidity_percent</th>\n",
       "      <th>reanalysis_avg_temp_k</th>\n",
       "    </tr>\n",
       "  </thead>\n",
       "  <tbody>\n",
       "    <tr>\n",
       "      <th>0</th>\n",
       "      <td>1</td>\n",
       "      <td>2.628571</td>\n",
       "      <td>6.900000</td>\n",
       "      <td>299.8</td>\n",
       "      <td>295.9</td>\n",
       "      <td>297.572857</td>\n",
       "      <td>12.42</td>\n",
       "      <td>0.177617</td>\n",
       "      <td>20.0</td>\n",
       "      <td>0.198483</td>\n",
       "      <td>16.0</td>\n",
       "      <td>0.122600</td>\n",
       "      <td>29.4</td>\n",
       "      <td>73.365714</td>\n",
       "      <td>297.742857</td>\n",
       "    </tr>\n",
       "    <tr>\n",
       "      <th>1</th>\n",
       "      <td>1</td>\n",
       "      <td>2.371429</td>\n",
       "      <td>6.371429</td>\n",
       "      <td>300.9</td>\n",
       "      <td>296.4</td>\n",
       "      <td>298.211429</td>\n",
       "      <td>22.82</td>\n",
       "      <td>0.155486</td>\n",
       "      <td>22.2</td>\n",
       "      <td>0.162357</td>\n",
       "      <td>8.6</td>\n",
       "      <td>0.169900</td>\n",
       "      <td>31.7</td>\n",
       "      <td>77.368571</td>\n",
       "      <td>298.442857</td>\n",
       "    </tr>\n",
       "    <tr>\n",
       "      <th>2</th>\n",
       "      <td>1</td>\n",
       "      <td>2.300000</td>\n",
       "      <td>6.485714</td>\n",
       "      <td>300.5</td>\n",
       "      <td>297.3</td>\n",
       "      <td>298.781429</td>\n",
       "      <td>34.54</td>\n",
       "      <td>0.170843</td>\n",
       "      <td>22.8</td>\n",
       "      <td>0.157200</td>\n",
       "      <td>41.4</td>\n",
       "      <td>0.032250</td>\n",
       "      <td>32.2</td>\n",
       "      <td>82.052857</td>\n",
       "      <td>298.878571</td>\n",
       "    </tr>\n",
       "    <tr>\n",
       "      <th>3</th>\n",
       "      <td>1</td>\n",
       "      <td>2.428571</td>\n",
       "      <td>6.771429</td>\n",
       "      <td>301.4</td>\n",
       "      <td>297.0</td>\n",
       "      <td>298.987143</td>\n",
       "      <td>15.36</td>\n",
       "      <td>0.235886</td>\n",
       "      <td>23.3</td>\n",
       "      <td>0.227557</td>\n",
       "      <td>4.0</td>\n",
       "      <td>0.128633</td>\n",
       "      <td>33.3</td>\n",
       "      <td>80.337143</td>\n",
       "      <td>299.228571</td>\n",
       "    </tr>\n",
       "    <tr>\n",
       "      <th>4</th>\n",
       "      <td>1</td>\n",
       "      <td>3.014286</td>\n",
       "      <td>9.371429</td>\n",
       "      <td>301.9</td>\n",
       "      <td>297.5</td>\n",
       "      <td>299.518571</td>\n",
       "      <td>7.52</td>\n",
       "      <td>0.247340</td>\n",
       "      <td>23.9</td>\n",
       "      <td>0.251200</td>\n",
       "      <td>5.8</td>\n",
       "      <td>0.196200</td>\n",
       "      <td>35.0</td>\n",
       "      <td>80.460000</td>\n",
       "      <td>299.664286</td>\n",
       "    </tr>\n",
       "  </tbody>\n",
       "</table>\n",
       "</div>"
      ],
      "text/plain": [
       "   city  reanalysis_tdtr_k  station_diur_temp_rng_c  \\\n",
       "0     1           2.628571                 6.900000   \n",
       "1     1           2.371429                 6.371429   \n",
       "2     1           2.300000                 6.485714   \n",
       "3     1           2.428571                 6.771429   \n",
       "4     1           3.014286                 9.371429   \n",
       "\n",
       "   reanalysis_max_air_temp_k  reanalysis_min_air_temp_k  \\\n",
       "0                      299.8                      295.9   \n",
       "1                      300.9                      296.4   \n",
       "2                      300.5                      297.3   \n",
       "3                      301.4                      297.0   \n",
       "4                      301.9                      297.5   \n",
       "\n",
       "   reanalysis_air_temp_k  reanalysis_sat_precip_amt_mm   ndvi_sw  \\\n",
       "0             297.572857                         12.42  0.177617   \n",
       "1             298.211429                         22.82  0.155486   \n",
       "2             298.781429                         34.54  0.170843   \n",
       "3             298.987143                         15.36  0.235886   \n",
       "4             299.518571                          7.52  0.247340   \n",
       "\n",
       "   station_min_temp_c   ndvi_se  station_precip_mm   ndvi_ne  \\\n",
       "0                20.0  0.198483               16.0  0.122600   \n",
       "1                22.2  0.162357                8.6  0.169900   \n",
       "2                22.8  0.157200               41.4  0.032250   \n",
       "3                23.3  0.227557                4.0  0.128633   \n",
       "4                23.9  0.251200                5.8  0.196200   \n",
       "\n",
       "   station_max_temp_c  reanalysis_relative_humidity_percent  \\\n",
       "0                29.4                             73.365714   \n",
       "1                31.7                             77.368571   \n",
       "2                32.2                             82.052857   \n",
       "3                33.3                             80.337143   \n",
       "4                35.0                             80.460000   \n",
       "\n",
       "   reanalysis_avg_temp_k  \n",
       "0             297.742857  \n",
       "1             298.442857  \n",
       "2             298.878571  \n",
       "3             299.228571  \n",
       "4             299.664286  "
      ]
     },
     "execution_count": 24,
     "metadata": {},
     "output_type": "execute_result"
    }
   ],
   "source": [
    "best_train_features = train_features[top10]\n",
    "best_train_features.head()"
   ]
  },
  {
   "cell_type": "markdown",
   "metadata": {},
   "source": [
    "## Experiments with Models"
   ]
  },
  {
   "cell_type": "markdown",
   "metadata": {},
   "source": [
    "### Splitting with `TimeSeriesSplit` "
   ]
  },
  {
   "cell_type": "markdown",
   "metadata": {},
   "source": [
    "As we have finished preprocessing data in the previous chapter, standartized it and prepared for further training, we may start applying various methods to train our data. First we will use TimeSeriesSplit. The function splits training data into multiple segments. We use the first segment to train the model with a set of hyper-parameter, to test it with the second. Then we train the model with first two chunks and measure it with the third part of the data. Then, we will test various machine learning algorithms on data, find mean squared error for each way of solution and select the most accurate one. "
   ]
  },
  {
   "cell_type": "code",
   "execution_count": 25,
   "metadata": {},
   "outputs": [],
   "source": [
    "from sklearn.model_selection import TimeSeriesSplit \n",
    "\n",
    "tscv = TimeSeriesSplit(n_splits=5)\n",
    "time_splits = tscv.split(best_train_features)"
   ]
  },
  {
   "cell_type": "code",
   "execution_count": 26,
   "metadata": {},
   "outputs": [],
   "source": [
    "from sklearn.linear_model import LinearRegression, Ridge, Lasso, LogisticRegression\n",
    "from sklearn.tree import DecisionTreeRegressor\n",
    "from sklearn.neighbors import KNeighborsRegressor\n",
    "from sklearn.ensemble import RandomForestRegressor\n",
    "from sklearn.svm import SVR"
   ]
  },
  {
   "cell_type": "code",
   "execution_count": 27,
   "metadata": {},
   "outputs": [],
   "source": [
    "linear_reg = LinearRegression()\n",
    "ridge = Ridge()\n",
    "lasso = Lasso()\n",
    "decision_tree = DecisionTreeRegressor()\n",
    "knearest = KNeighborsRegressor()\n",
    "random_forest = RandomForestRegressor()\n",
    "logreg = LogisticRegression()\n",
    "svr = SVR()\n",
    "\n",
    "clfs = [linear_reg, logreg, ridge, lasso, decision_tree, knearest, random_forest, svr]\n",
    "scores = {'LinearRegression' :[], \n",
    "            'LogisticRegression' : [],\n",
    "            'Ridge' : [], \n",
    "            'Lasso' : [],\n",
    "            'DecisionTreeRegressor' : [], \n",
    "            'KNeighborsRegressor' : [], \n",
    "            'RandomForestRegressor' : [],\n",
    "            'SVR' : []}"
   ]
  },
  {
   "cell_type": "code",
   "execution_count": 28,
   "metadata": {
    "tags": []
   },
   "outputs": [
    {
     "name": "stderr",
     "output_type": "stream",
     "text": [
      "C:\\ProgramData\\Anaconda3\\lib\\site-packages\\sklearn\\linear_model\\_logistic.py:763: ConvergenceWarning: lbfgs failed to converge (status=1):\n",
      "STOP: TOTAL NO. of ITERATIONS REACHED LIMIT.\n",
      "\n",
      "Increase the number of iterations (max_iter) or scale the data as shown in:\n",
      "    https://scikit-learn.org/stable/modules/preprocessing.html\n",
      "Please also refer to the documentation for alternative solver options:\n",
      "    https://scikit-learn.org/stable/modules/linear_model.html#logistic-regression\n",
      "  n_iter_i = _check_optimize_result(\n",
      "C:\\ProgramData\\Anaconda3\\lib\\site-packages\\sklearn\\linear_model\\_logistic.py:763: ConvergenceWarning: lbfgs failed to converge (status=1):\n",
      "STOP: TOTAL NO. of ITERATIONS REACHED LIMIT.\n",
      "\n",
      "Increase the number of iterations (max_iter) or scale the data as shown in:\n",
      "    https://scikit-learn.org/stable/modules/preprocessing.html\n",
      "Please also refer to the documentation for alternative solver options:\n",
      "    https://scikit-learn.org/stable/modules/linear_model.html#logistic-regression\n",
      "  n_iter_i = _check_optimize_result(\n",
      "C:\\ProgramData\\Anaconda3\\lib\\site-packages\\sklearn\\linear_model\\_logistic.py:763: ConvergenceWarning: lbfgs failed to converge (status=1):\n",
      "STOP: TOTAL NO. of ITERATIONS REACHED LIMIT.\n",
      "\n",
      "Increase the number of iterations (max_iter) or scale the data as shown in:\n",
      "    https://scikit-learn.org/stable/modules/preprocessing.html\n",
      "Please also refer to the documentation for alternative solver options:\n",
      "    https://scikit-learn.org/stable/modules/linear_model.html#logistic-regression\n",
      "  n_iter_i = _check_optimize_result(\n",
      "C:\\ProgramData\\Anaconda3\\lib\\site-packages\\sklearn\\linear_model\\_logistic.py:763: ConvergenceWarning: lbfgs failed to converge (status=1):\n",
      "STOP: TOTAL NO. of ITERATIONS REACHED LIMIT.\n",
      "\n",
      "Increase the number of iterations (max_iter) or scale the data as shown in:\n",
      "    https://scikit-learn.org/stable/modules/preprocessing.html\n",
      "Please also refer to the documentation for alternative solver options:\n",
      "    https://scikit-learn.org/stable/modules/linear_model.html#logistic-regression\n",
      "  n_iter_i = _check_optimize_result(\n",
      "C:\\ProgramData\\Anaconda3\\lib\\site-packages\\sklearn\\linear_model\\_logistic.py:763: ConvergenceWarning: lbfgs failed to converge (status=1):\n",
      "STOP: TOTAL NO. of ITERATIONS REACHED LIMIT.\n",
      "\n",
      "Increase the number of iterations (max_iter) or scale the data as shown in:\n",
      "    https://scikit-learn.org/stable/modules/preprocessing.html\n",
      "Please also refer to the documentation for alternative solver options:\n",
      "    https://scikit-learn.org/stable/modules/linear_model.html#logistic-regression\n",
      "  n_iter_i = _check_optimize_result(\n"
     ]
    }
   ],
   "source": [
    "from sklearn.metrics import mean_squared_error as mse, mean_absolute_error\n",
    "\n",
    "for train_index, test_index in time_splits:\n",
    "    X_train, X_test = best_train_features.iloc[train_index, :], best_train_features.iloc[test_index,:]\n",
    "    y_train, y_test = labels[train_index], labels[test_index]\n",
    "\n",
    "    for clf in clfs:\n",
    "        clf_name = clf.__class__.__name__\n",
    "        clf.fit(X_train, y_train)\n",
    "        acc = mean_absolute_error(y_test, clf.predict(X_test))\n",
    "        scores[clf_name].append(acc)"
   ]
  },
  {
   "cell_type": "code",
   "execution_count": 29,
   "metadata": {},
   "outputs": [
    {
     "name": "stdout",
     "output_type": "stream",
     "text": [
      "{'LogisticRegression': 15.13388429752066, 'SVR': 17.144576772889803, 'Lasso': 24.74862739957426, 'Ridge': 25.992284349950733, 'LinearRegression': 26.810001921378962, 'RandomForestRegressor': 27.99074165682802, 'KNeighborsRegressor': 29.356198347107437, 'DecisionTreeRegressor': 32.53553719008265}\n"
     ]
    }
   ],
   "source": [
    "# calculate the avg from cross val process\n",
    "avg_scores = {}\n",
    "\n",
    "for k, v in scores.items():\n",
    "    avg_score = sum(v)/len(v)\n",
    "    avg_scores[k] = avg_score\n",
    "\n",
    "sorted_avg_scores = {k: v for k, v in sorted(avg_scores.items(), key=lambda item: item[1])}\n",
    "print(sorted_avg_scores)"
   ]
  },
  {
   "cell_type": "markdown",
   "metadata": {},
   "source": [
    "## Finetuning the top 3 best Raw Regressor"
   ]
  },
  {
   "cell_type": "markdown",
   "metadata": {},
   "source": [
    "We have found that the top3 lowest MSE belong to SVR(17.14), Lasso(24.748) and LogisticRegression(15.13). Let's make mse of these models lower i.e. make these algorithms better by using gridsearch. GridSearchCV is a very powerful tool for automatically fitting parameters for machine learning models. GridSearchCV finds the best parameters by simple iteration: it creates a model for every possible combination of parameters. It is important to note that this approach can be very time consuming."
   ]
  },
  {
   "cell_type": "code",
   "execution_count": 30,
   "metadata": {},
   "outputs": [],
   "source": [
    "from sklearn.model_selection import GridSearchCV\n",
    "from sklearn.metrics import make_scorer\n",
    "from sklearn.metrics import mean_squared_error\n",
    "\n",
    "def perform_grid_search(clf, param):\n",
    "    grid = GridSearchCV(clf, param, cv=tscv, n_jobs = -1, verbose=True, scoring='neg_mean_absolute_error')\n",
    "    grid.fit(X_train, y_train)\n",
    "    print(grid.best_params_)\n",
    "    print(grid.best_estimator_)\n",
    "    print(grid.best_score_)  "
   ]
  },
  {
   "cell_type": "code",
   "execution_count": 31,
   "metadata": {},
   "outputs": [
    {
     "name": "stdout",
     "output_type": "stream",
     "text": [
      "Fitting 5 folds for each of 5 candidates, totalling 25 fits\n",
      "{'alpha': 0.03}\n",
      "Lasso(alpha=0.03)\n",
      "-29.854916821053926\n"
     ]
    }
   ],
   "source": [
    "beast1_clf = Lasso()\n",
    "lasso_params = {'alpha':[0.02, 0.024, 0.025, 0.026, 0.03]}\n",
    "perform_grid_search(beast1_clf, lasso_params)\n"
   ]
  },
  {
   "cell_type": "code",
   "execution_count": 32,
   "metadata": {},
   "outputs": [
    {
     "name": "stdout",
     "output_type": "stream",
     "text": [
      "Fitting 5 folds for each of 20 candidates, totalling 100 fits\n",
      "{'C': 10.0, 'gamma': 0.01}\n",
      "SVR(C=10.0, gamma=0.01)\n",
      "-22.701012094386257\n"
     ]
    }
   ],
   "source": [
    "beast2_clf = SVR()\n",
    "svr_param = {\"C\": [1e0, 1e1, 1e2, 1e3],\"gamma\": np.logspace(-2, 2, 5)}\n",
    "perform_grid_search(beast2_clf, svr_param)"
   ]
  },
  {
   "cell_type": "code",
   "execution_count": 33,
   "metadata": {},
   "outputs": [
    {
     "name": "stdout",
     "output_type": "stream",
     "text": [
      "Fitting 5 folds for each of 14 candidates, totalling 70 fits\n"
     ]
    },
    {
     "name": "stderr",
     "output_type": "stream",
     "text": [
      "C:\\ProgramData\\Anaconda3\\lib\\site-packages\\sklearn\\model_selection\\_search.py:918: UserWarning: One or more of the test scores are non-finite: [-21.32475248          nan -21.60792079          nan -21.47227723\n",
      "          nan -21.45544554          nan -21.4019802           nan\n",
      " -21.71485149          nan -21.66831683          nan]\n",
      "  warnings.warn(\n"
     ]
    },
    {
     "name": "stdout",
     "output_type": "stream",
     "text": [
      "{'C': 0.01, 'penalty': 'l2'}\n",
      "LogisticRegression(C=0.01)\n",
      "-21.32475247524752\n"
     ]
    },
    {
     "name": "stderr",
     "output_type": "stream",
     "text": [
      "C:\\ProgramData\\Anaconda3\\lib\\site-packages\\sklearn\\linear_model\\_logistic.py:763: ConvergenceWarning: lbfgs failed to converge (status=1):\n",
      "STOP: TOTAL NO. of ITERATIONS REACHED LIMIT.\n",
      "\n",
      "Increase the number of iterations (max_iter) or scale the data as shown in:\n",
      "    https://scikit-learn.org/stable/modules/preprocessing.html\n",
      "Please also refer to the documentation for alternative solver options:\n",
      "    https://scikit-learn.org/stable/modules/linear_model.html#logistic-regression\n",
      "  n_iter_i = _check_optimize_result(\n"
     ]
    }
   ],
   "source": [
    "beast3_clf = LogisticRegression()\n",
    "logreg_params = {\n",
    "    'C': np.logspace(-2,2,7),\n",
    "    'penalty': ['l2', 'l1'],\n",
    "}\n",
    "perform_grid_search(beast3_clf, logreg_params)"
   ]
  },
  {
   "cell_type": "markdown",
   "metadata": {},
   "source": [
    "## Training with our tuned best Model"
   ]
  },
  {
   "cell_type": "markdown",
   "metadata": {},
   "source": [
    "so as we have found above, the grid best scores belong to logistic regression and svr. Let's find their mse usingtheir best estimators/parameters found by gridsearch. "
   ]
  },
  {
   "cell_type": "code",
   "execution_count": 34,
   "metadata": {},
   "outputs": [
    {
     "name": "stdout",
     "output_type": "stream",
     "text": [
      "8.987603305785123\n"
     ]
    },
    {
     "name": "stderr",
     "output_type": "stream",
     "text": [
      "C:\\ProgramData\\Anaconda3\\lib\\site-packages\\sklearn\\linear_model\\_logistic.py:763: ConvergenceWarning: lbfgs failed to converge (status=1):\n",
      "STOP: TOTAL NO. of ITERATIONS REACHED LIMIT.\n",
      "\n",
      "Increase the number of iterations (max_iter) or scale the data as shown in:\n",
      "    https://scikit-learn.org/stable/modules/preprocessing.html\n",
      "Please also refer to the documentation for alternative solver options:\n",
      "    https://scikit-learn.org/stable/modules/linear_model.html#logistic-regression\n",
      "  n_iter_i = _check_optimize_result(\n"
     ]
    }
   ],
   "source": [
    "beast1 = LogisticRegression(C=0.01, penalty='l2')\n",
    "\n",
    "beast1.fit(X_train, y_train)\n",
    "y_pred = beast1.predict(X_test)\n",
    "mae_loss = mean_absolute_error(y_test, y_pred)\n",
    "print(mae_loss)"
   ]
  },
  {
   "cell_type": "code",
   "execution_count": 35,
   "metadata": {},
   "outputs": [
    {
     "name": "stdout",
     "output_type": "stream",
     "text": [
      "7.48855448576518\n"
     ]
    }
   ],
   "source": [
    "beast2 = SVR(C=10.0, cache_size=200, coef0=0.0, degree=3, epsilon=0.1, gamma=0.01,\n",
    "  kernel='rbf', max_iter=-1, shrinking=True, tol=0.001, verbose=False)\n",
    "\n",
    "beast2.fit(X_train, y_train)\n",
    "y_pred = beast2.predict(X_test)\n",
    "mae_loss = mean_absolute_error(y_test, y_pred)\n",
    "print(mae_loss)"
   ]
  },
  {
   "cell_type": "markdown",
   "metadata": {},
   "source": [
    "## Best MAE score: 7.48"
   ]
  },
  {
   "cell_type": "markdown",
   "metadata": {},
   "source": [
    "So the SVR gave us the lowest MAE. \n",
    "Let's plot the result of predicted one and the actual one of total_cases and see how they are fitting each other. "
   ]
  },
  {
   "cell_type": "markdown",
   "metadata": {},
   "source": [
    "Plotting out residual"
   ]
  },
  {
   "cell_type": "code",
   "execution_count": 36,
   "metadata": {},
   "outputs": [
    {
     "data": {
      "text/plain": [
       "<AxesSubplot:xlabel='total_cases', ylabel='total_cases'>"
      ]
     },
     "execution_count": 36,
     "metadata": {},
     "output_type": "execute_result"
    },
    {
     "data": {
      "image/png": "[encoded data removed]",
      "text/plain": [
       "<Figure size 432x288 with 1 Axes>"
      ]
     },
     "metadata": {
      "needs_background": "light"
     },
     "output_type": "display_data"
    }
   ],
   "source": [
    "import matplotlib.pyplot as plt\n",
    "import seaborn as sns\n",
    "\n",
    "residual = y_pred - y_test\n",
    "sns.regplot(x = residual, y = y_test, data = None, scatter = True, color = 'red')"
   ]
  },
  {
   "cell_type": "markdown",
   "metadata": {},
   "source": [
    "## Writing our result to output.csv"
   ]
  },
  {
   "cell_type": "code",
   "execution_count": 37,
   "metadata": {},
   "outputs": [
    {
     "data": {
      "text/html": [
       "<div>\n",
       "<style scoped>\n",
       "    .dataframe tbody tr th:only-of-type {\n",
       "        vertical-align: middle;\n",
       "    }\n",
       "\n",
       "    .dataframe tbody tr th {\n",
       "        vertical-align: top;\n",
       "    }\n",
       "\n",
       "    .dataframe thead th {\n",
       "        text-align: right;\n",
       "    }\n",
       "</style>\n",
       "<table border=\"1\" class=\"dataframe\">\n",
       "  <thead>\n",
       "    <tr style=\"text-align: right;\">\n",
       "      <th></th>\n",
       "      <th>city</th>\n",
       "      <th>year</th>\n",
       "      <th>weekofyear</th>\n",
       "      <th>total_cases</th>\n",
       "    </tr>\n",
       "  </thead>\n",
       "  <tbody>\n",
       "    <tr>\n",
       "      <th>0</th>\n",
       "      <td>sj</td>\n",
       "      <td>2008</td>\n",
       "      <td>18</td>\n",
       "      <td>0</td>\n",
       "    </tr>\n",
       "    <tr>\n",
       "      <th>1</th>\n",
       "      <td>sj</td>\n",
       "      <td>2008</td>\n",
       "      <td>19</td>\n",
       "      <td>0</td>\n",
       "    </tr>\n",
       "    <tr>\n",
       "      <th>2</th>\n",
       "      <td>sj</td>\n",
       "      <td>2008</td>\n",
       "      <td>20</td>\n",
       "      <td>0</td>\n",
       "    </tr>\n",
       "    <tr>\n",
       "      <th>3</th>\n",
       "      <td>sj</td>\n",
       "      <td>2008</td>\n",
       "      <td>21</td>\n",
       "      <td>0</td>\n",
       "    </tr>\n",
       "    <tr>\n",
       "      <th>4</th>\n",
       "      <td>sj</td>\n",
       "      <td>2008</td>\n",
       "      <td>22</td>\n",
       "      <td>0</td>\n",
       "    </tr>\n",
       "  </tbody>\n",
       "</table>\n",
       "</div>"
      ],
      "text/plain": [
       "  city  year  weekofyear  total_cases\n",
       "0   sj  2008          18            0\n",
       "1   sj  2008          19            0\n",
       "2   sj  2008          20            0\n",
       "3   sj  2008          21            0\n",
       "4   sj  2008          22            0"
      ]
     },
     "execution_count": 37,
     "metadata": {},
     "output_type": "execute_result"
    }
   ],
   "source": [
    "result_df = pd.read_csv('submission_format.csv')\n",
    "result_df.head()"
   ]
  },
  {
   "cell_type": "code",
   "execution_count": 38,
   "metadata": {},
   "outputs": [],
   "source": [
    "# getting preds for test features\n",
    "best_test_features = test_features[top10]\n",
    "preds = beast2.predict(best_test_features)\n",
    "result_df['total_cases'] = preds\n",
    "result_df['total_cases'] = result_df['total_cases'].astype(int)"
   ]
  },
  {
   "cell_type": "code",
   "execution_count": 39,
   "metadata": {},
   "outputs": [
    {
     "data": {
      "text/html": [
       "<div>\n",
       "<style scoped>\n",
       "    .dataframe tbody tr th:only-of-type {\n",
       "        vertical-align: middle;\n",
       "    }\n",
       "\n",
       "    .dataframe tbody tr th {\n",
       "        vertical-align: top;\n",
       "    }\n",
       "\n",
       "    .dataframe thead th {\n",
       "        text-align: right;\n",
       "    }\n",
       "</style>\n",
       "<table border=\"1\" class=\"dataframe\">\n",
       "  <thead>\n",
       "    <tr style=\"text-align: right;\">\n",
       "      <th></th>\n",
       "      <th>city</th>\n",
       "      <th>year</th>\n",
       "      <th>weekofyear</th>\n",
       "      <th>total_cases</th>\n",
       "    </tr>\n",
       "  </thead>\n",
       "  <tbody>\n",
       "    <tr>\n",
       "      <th>0</th>\n",
       "      <td>sj</td>\n",
       "      <td>2008</td>\n",
       "      <td>18</td>\n",
       "      <td>16</td>\n",
       "    </tr>\n",
       "    <tr>\n",
       "      <th>1</th>\n",
       "      <td>sj</td>\n",
       "      <td>2008</td>\n",
       "      <td>19</td>\n",
       "      <td>15</td>\n",
       "    </tr>\n",
       "    <tr>\n",
       "      <th>2</th>\n",
       "      <td>sj</td>\n",
       "      <td>2008</td>\n",
       "      <td>20</td>\n",
       "      <td>11</td>\n",
       "    </tr>\n",
       "    <tr>\n",
       "      <th>3</th>\n",
       "      <td>sj</td>\n",
       "      <td>2008</td>\n",
       "      <td>21</td>\n",
       "      <td>7</td>\n",
       "    </tr>\n",
       "    <tr>\n",
       "      <th>4</th>\n",
       "      <td>sj</td>\n",
       "      <td>2008</td>\n",
       "      <td>22</td>\n",
       "      <td>12</td>\n",
       "    </tr>\n",
       "  </tbody>\n",
       "</table>\n",
       "</div>"
      ],
      "text/plain": [
       "  city  year  weekofyear  total_cases\n",
       "0   sj  2008          18           16\n",
       "1   sj  2008          19           15\n",
       "2   sj  2008          20           11\n",
       "3   sj  2008          21            7\n",
       "4   sj  2008          22           12"
      ]
     },
     "execution_count": 39,
     "metadata": {},
     "output_type": "execute_result"
    }
   ],
   "source": [
    "result_df.head()"
   ]
  },
  {
   "cell_type": "code",
   "execution_count": 40,
   "metadata": {},
   "outputs": [],
   "source": [
    "result_df.to_csv('./output.csv') "
   ]
  }
 ],
 "metadata": {
  "kernelspec": {
   "display_name": "Python 3",
   "language": "python",
   "name": "python3"
  },
  "language_info": {
   "codemirror_mode": {
    "name": "ipython",
    "version": 3
   },
   "file_extension": ".py",
   "mimetype": "text/x-python",
   "name": "python",
   "nbconvert_exporter": "python",
   "pygments_lexer": "ipython3",
   "version": "3.8.8"
  }
 },
 "nbformat": 4,
 "nbformat_minor": 2
}
